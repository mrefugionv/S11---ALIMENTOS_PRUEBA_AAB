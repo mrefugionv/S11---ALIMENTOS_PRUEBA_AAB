{
  "cells": [
    {
      "cell_type": "markdown",
      "metadata": {
        "id": "view-in-github",
        "colab_type": "text"
      },
      "source": [
        "<a href=\"https://colab.research.google.com/github/mrefugionv/S11---ALIMENTOS_PRUEBA_AAB/blob/main/P11_ANAEST_EMBUDO_PRUEBAAA_ALIMENTOS.ipynb\" target=\"_parent\"><img src=\"https://colab.research.google.com/assets/colab-badge.svg\" alt=\"Open In Colab\"/></a>"
      ]
    },
    {
      "cell_type": "markdown",
      "metadata": {
        "id": "4HsGHsthR9Z-"
      },
      "source": [
        "# PROYECTO SPRINT 11 : PROYECTO DEL MÓDULO 2\n",
        "María del Refugio Noriega Vargas"
      ]
    },
    {
      "cell_type": "markdown",
      "metadata": {
        "id": "vNtfyHpdR9Z-"
      },
      "source": [
        "## DESCRIPCIÓN DEL PROYECTO\n",
        "\n",
        "Trabajas en una empresa emergente que vende productos alimenticios. Debes investigar el comportamiento del usuario para la aplicación de la empresa.\n",
        "\n",
        "Al equipo de diseño le gustaría cambiar las fuentes de toda la aplicación, pero la gerencia teme que los usuarios piensen que el nuevo diseño es intimidante. Por ello, deciden tomar una decisión basada en los resultados de un test A/A/B.\n",
        "\n",
        "Los usuarios se dividen en tres grupos: dos grupos de control obtienen las fuentes antiguas y un grupo de prueba obtiene las nuevas. Descubre qué conjunto de fuentes produce mejores resultados.\n",
        "\n",
        "Utilizarás el mismo dataset para el análisis general y para el análisis A/A/B. En proyectos reales, los experimentos se llevan a cabo constantemente. El equipo de análisis estudia la calidad de una aplicación utilizando datos generales, sin prestar atención a si los usuarios participan en experimentos."
      ]
    },
    {
      "cell_type": "markdown",
      "metadata": {
        "id": "I5o8RKKxR9Z_"
      },
      "source": [
        "## PREPROCESAMIENTO DE DATOS\n",
        "### ABRIR ARCHIVO DE DATOS Y LEER INFORMACIÓN"
      ]
    },
    {
      "cell_type": "code",
      "execution_count": null,
      "metadata": {
        "id": "ltGIg2PFR9Z_"
      },
      "outputs": [],
      "source": [
        "# Importación de librerías necesarias\n",
        "import pandas as pd            # Manejo de dataframes\n",
        "import datetime as dt          # Manejo de fechas\n",
        "import matplotlib.pyplot as plt  # Graficar\n",
        "import numpy as np              # Matrices\n",
        "import seaborn as sns              # Gráfico caja- bigotes\n",
        "import scipy.stats as stats         # Métodos estadísticos"
      ]
    },
    {
      "cell_type": "code",
      "execution_count": null,
      "metadata": {
        "id": "mDdJ0cqRR9aA",
        "outputId": "817ea619-9f0b-490b-d45b-1540bac3a15e"
      },
      "outputs": [
        {
          "data": {
            "text/html": [
              "<div>\n",
              "<style scoped>\n",
              "    .dataframe tbody tr th:only-of-type {\n",
              "        vertical-align: middle;\n",
              "    }\n",
              "\n",
              "    .dataframe tbody tr th {\n",
              "        vertical-align: top;\n",
              "    }\n",
              "\n",
              "    .dataframe thead th {\n",
              "        text-align: right;\n",
              "    }\n",
              "</style>\n",
              "<table border=\"1\" class=\"dataframe\">\n",
              "  <thead>\n",
              "    <tr style=\"text-align: right;\">\n",
              "      <th></th>\n",
              "      <th>EventName</th>\n",
              "      <th>DeviceIDHash</th>\n",
              "      <th>EventTimestamp</th>\n",
              "      <th>ExpId</th>\n",
              "    </tr>\n",
              "  </thead>\n",
              "  <tbody>\n",
              "    <tr>\n",
              "      <th>0</th>\n",
              "      <td>MainScreenAppear</td>\n",
              "      <td>4575588528974610257</td>\n",
              "      <td>1564029816</td>\n",
              "      <td>246</td>\n",
              "    </tr>\n",
              "    <tr>\n",
              "      <th>1</th>\n",
              "      <td>MainScreenAppear</td>\n",
              "      <td>7416695313311560658</td>\n",
              "      <td>1564053102</td>\n",
              "      <td>246</td>\n",
              "    </tr>\n",
              "    <tr>\n",
              "      <th>2</th>\n",
              "      <td>PaymentScreenSuccessful</td>\n",
              "      <td>3518123091307005509</td>\n",
              "      <td>1564054127</td>\n",
              "      <td>248</td>\n",
              "    </tr>\n",
              "    <tr>\n",
              "      <th>3</th>\n",
              "      <td>CartScreenAppear</td>\n",
              "      <td>3518123091307005509</td>\n",
              "      <td>1564054127</td>\n",
              "      <td>248</td>\n",
              "    </tr>\n",
              "    <tr>\n",
              "      <th>4</th>\n",
              "      <td>PaymentScreenSuccessful</td>\n",
              "      <td>6217807653094995999</td>\n",
              "      <td>1564055322</td>\n",
              "      <td>248</td>\n",
              "    </tr>\n",
              "  </tbody>\n",
              "</table>\n",
              "</div>"
            ],
            "text/plain": [
              "                 EventName         DeviceIDHash  EventTimestamp  ExpId\n",
              "0         MainScreenAppear  4575588528974610257      1564029816    246\n",
              "1         MainScreenAppear  7416695313311560658      1564053102    246\n",
              "2  PaymentScreenSuccessful  3518123091307005509      1564054127    248\n",
              "3         CartScreenAppear  3518123091307005509      1564054127    248\n",
              "4  PaymentScreenSuccessful  6217807653094995999      1564055322    248"
            ]
          },
          "metadata": {},
          "output_type": "display_data"
        }
      ],
      "source": [
        "#Lectura de los datos\n",
        "data = pd.read_csv('datasets/logs_exp_us.csv', sep='\\t')\n",
        "display(data.head())"
      ]
    },
    {
      "cell_type": "markdown",
      "metadata": {
        "id": "MvH7a8okR9aB"
      },
      "source": [
        "### PREPARAR LOS DATOS PARA EL ANÁLISIS"
      ]
    },
    {
      "cell_type": "markdown",
      "metadata": {
        "id": "ViBwsdIGR9aC"
      },
      "source": [
        "#### CAMBIO NOMBRE DE COLUMNAS"
      ]
    },
    {
      "cell_type": "code",
      "execution_count": null,
      "metadata": {
        "id": "Qxgck-NIR9aC",
        "outputId": "4594b124-1571-4436-e93c-cd6dd3e6c040"
      },
      "outputs": [
        {
          "data": {
            "text/html": [
              "<div>\n",
              "<style scoped>\n",
              "    .dataframe tbody tr th:only-of-type {\n",
              "        vertical-align: middle;\n",
              "    }\n",
              "\n",
              "    .dataframe tbody tr th {\n",
              "        vertical-align: top;\n",
              "    }\n",
              "\n",
              "    .dataframe thead th {\n",
              "        text-align: right;\n",
              "    }\n",
              "</style>\n",
              "<table border=\"1\" class=\"dataframe\">\n",
              "  <thead>\n",
              "    <tr style=\"text-align: right;\">\n",
              "      <th></th>\n",
              "      <th>event_name</th>\n",
              "      <th>device_id_hash</th>\n",
              "      <th>event_timestamp</th>\n",
              "      <th>exp_id</th>\n",
              "    </tr>\n",
              "  </thead>\n",
              "  <tbody>\n",
              "    <tr>\n",
              "      <th>0</th>\n",
              "      <td>MainScreenAppear</td>\n",
              "      <td>4575588528974610257</td>\n",
              "      <td>1564029816</td>\n",
              "      <td>246</td>\n",
              "    </tr>\n",
              "    <tr>\n",
              "      <th>1</th>\n",
              "      <td>MainScreenAppear</td>\n",
              "      <td>7416695313311560658</td>\n",
              "      <td>1564053102</td>\n",
              "      <td>246</td>\n",
              "    </tr>\n",
              "  </tbody>\n",
              "</table>\n",
              "</div>"
            ],
            "text/plain": [
              "         event_name       device_id_hash  event_timestamp  exp_id\n",
              "0  MainScreenAppear  4575588528974610257       1564029816     246\n",
              "1  MainScreenAppear  7416695313311560658       1564053102     246"
            ]
          },
          "metadata": {},
          "output_type": "display_data"
        }
      ],
      "source": [
        "# Correción de nombres de columnas a snake_case\n",
        "data.columns =['event_name','device_id_hash','event_timestamp','exp_id']\n",
        "display(data.head(2))"
      ]
    },
    {
      "cell_type": "markdown",
      "metadata": {
        "id": "NKDH7pfYR9aC"
      },
      "source": [
        "#### CORRECCIÓN TIPO DE DATOS Y VALORES AUSCENTES"
      ]
    },
    {
      "cell_type": "markdown",
      "metadata": {
        "id": "tQYbYtpMR9aC"
      },
      "source": [
        "Se tienen 244126 registros con 4 columnas, ninguna de ellas con valores nulos, con las siguientes características:\n",
        "* event_name: describre el nombre del evento - tipo de dato objeto, puede tener 4 valores : 'MainScreenAppear', 'PaymentScreenSuccessful' ,'CartScreenAppear', 'OffersScreenAppear', 'Tutorial'\n",
        "* device_id_hash: identificador de usuario unívoco - tipo de dato entero, se cambia a string, ya que no se realizan operaciones matemáticas con los identificadores.\n",
        "* event_time_stamp: hora del evento - tipo de dato entero, de convierte a time stamp.\n",
        "  NOTA: la fecha se encuentra en Unix time, que representa el numero de segundos desde 00:00:00 UTC (Coordinated Universal Time) en  01-01-1970\n",
        "* exp_id: némero de experimento. 246 y 247 son los grupos de control, y 248 es el grupo de prueba.- tipo de dato entero, se cambia a string, ya que no se realizan operaciones matemáticas con los identificadores."
      ]
    },
    {
      "cell_type": "code",
      "execution_count": null,
      "metadata": {
        "id": "hsRiY08eR9aD",
        "outputId": "37d91102-444c-4058-ed5a-a643d8830d21"
      },
      "outputs": [
        {
          "name": "stdout",
          "output_type": "stream",
          "text": [
            "<class 'pandas.core.frame.DataFrame'>\n",
            "RangeIndex: 244126 entries, 0 to 244125\n",
            "Data columns (total 4 columns):\n",
            " #   Column           Non-Null Count   Dtype \n",
            "---  ------           --------------   ----- \n",
            " 0   event_name       244126 non-null  object\n",
            " 1   device_id_hash   244126 non-null  int64 \n",
            " 2   event_timestamp  244126 non-null  int64 \n",
            " 3   exp_id           244126 non-null  int64 \n",
            "dtypes: int64(3), object(1)\n",
            "memory usage: 7.5+ MB\n",
            "None\n",
            "\n"
          ]
        }
      ],
      "source": [
        "# Revisión de info general del df\n",
        "print(data.info())\n",
        "print()"
      ]
    },
    {
      "cell_type": "code",
      "execution_count": null,
      "metadata": {
        "id": "oIiuzFCSR9aD",
        "outputId": "5acc1a6a-22a0-427d-c976-dbf7a0c86272"
      },
      "outputs": [
        {
          "name": "stderr",
          "output_type": "stream",
          "text": [
            "C:\\Users\\cucum\\AppData\\Local\\Temp\\ipykernel_13704\\1040669263.py:6: DeprecationWarning: datetime.datetime.utcfromtimestamp() is deprecated and scheduled for removal in a future version. Use timezone-aware objects to represent datetimes in UTC: datetime.datetime.fromtimestamp(timestamp, datetime.UTC).\n",
            "  data['event_timestamp']= data['event_timestamp'].map(lambda x: dt.datetime.utcfromtimestamp(x).strftime('%Y-%m-%d %H:%M:%S'))\n"
          ]
        },
        {
          "name": "stdout",
          "output_type": "stream",
          "text": [
            "                event_name       device_id_hash      event_timestamp exp_id\n",
            "0         MainScreenAppear  4575588528974610257  2019-07-25 04:43:36    246\n",
            "1         MainScreenAppear  7416695313311560658  2019-07-25 11:11:42    246\n",
            "2  PaymentScreenSuccessful  3518123091307005509  2019-07-25 11:28:47    248\n",
            "3         CartScreenAppear  3518123091307005509  2019-07-25 11:28:47    248\n",
            "4  PaymentScreenSuccessful  6217807653094995999  2019-07-25 11:48:42    248\n",
            "<class 'pandas.core.frame.DataFrame'>\n",
            "RangeIndex: 244126 entries, 0 to 244125\n",
            "Data columns (total 4 columns):\n",
            " #   Column           Non-Null Count   Dtype \n",
            "---  ------           --------------   ----- \n",
            " 0   event_name       244126 non-null  object\n",
            " 1   device_id_hash   244126 non-null  string\n",
            " 2   event_timestamp  244126 non-null  object\n",
            " 3   exp_id           244126 non-null  string\n",
            "dtypes: object(2), string(2)\n",
            "memory usage: 7.5+ MB\n",
            "None\n"
          ]
        }
      ],
      "source": [
        "# Se realizan cambios\n",
        "data['device_id_hash'] = data['device_id_hash'].astype('string')\n",
        "data['exp_id'] = data['exp_id'].astype('string')\n",
        "\n",
        "# Obtención de fecha a partir de Unix time\n",
        "data['event_timestamp']= data['event_timestamp'].map(lambda x: dt.datetime.utcfromtimestamp(x).strftime('%Y-%m-%d %H:%M:%S'))\n",
        "print(data.head())\n",
        "print(data.info())"
      ]
    },
    {
      "cell_type": "markdown",
      "metadata": {
        "id": "gQsn0nuKR9aD"
      },
      "source": [
        "#### COLUMNA DE FECHA"
      ]
    },
    {
      "cell_type": "code",
      "execution_count": null,
      "metadata": {
        "id": "DyVJ-7biR9aD",
        "outputId": "d51190d1-dc00-4d78-dc15-8a3f9d948424"
      },
      "outputs": [
        {
          "name": "stdout",
          "output_type": "stream",
          "text": [
            "                event_name       device_id_hash     event_timestamp exp_id  \\\n",
            "0         MainScreenAppear  4575588528974610257 2019-07-25 04:43:36    246   \n",
            "1         MainScreenAppear  7416695313311560658 2019-07-25 11:11:42    246   \n",
            "2  PaymentScreenSuccessful  3518123091307005509 2019-07-25 11:28:47    248   \n",
            "3         CartScreenAppear  3518123091307005509 2019-07-25 11:28:47    248   \n",
            "4  PaymentScreenSuccessful  6217807653094995999 2019-07-25 11:48:42    248   \n",
            "\n",
            "   event_date  \n",
            "0  2019-07-25  \n",
            "1  2019-07-25  \n",
            "2  2019-07-25  \n",
            "3  2019-07-25  \n",
            "4  2019-07-25  \n",
            "<class 'pandas.core.frame.DataFrame'>\n",
            "RangeIndex: 244126 entries, 0 to 244125\n",
            "Data columns (total 5 columns):\n",
            " #   Column           Non-Null Count   Dtype         \n",
            "---  ------           --------------   -----         \n",
            " 0   event_name       244126 non-null  object        \n",
            " 1   device_id_hash   244126 non-null  string        \n",
            " 2   event_timestamp  244126 non-null  datetime64[ns]\n",
            " 3   exp_id           244126 non-null  string        \n",
            " 4   event_date       244126 non-null  object        \n",
            "dtypes: datetime64[ns](1), object(2), string(2)\n",
            "memory usage: 9.3+ MB\n",
            "None\n"
          ]
        }
      ],
      "source": [
        "# conversi+on a tipo de dato datetime\n",
        "data['event_timestamp'] = data['event_timestamp'].map( lambda x: dt.datetime.strptime(x, '%Y-%m-%d %H:%M:%S'))\n",
        "# Crear columna con número de mes\n",
        "data['event_date'] = data['event_timestamp'].dt.date\n",
        "print(data.head())\n",
        "print(data.info())"
      ]
    },
    {
      "cell_type": "markdown",
      "metadata": {
        "id": "zEk_Nm-jR9aE"
      },
      "source": [
        "## ANÁLISIS EXPLORATORIO\n",
        "### ESTUDIAR Y COMPROBAR LOS DATOS"
      ]
    },
    {
      "cell_type": "markdown",
      "metadata": {
        "id": "mbeixWxUR9aE"
      },
      "source": [
        "#### ¿CUÁNTOS EVENTOS HAY EN LOS REGISTROS?\n",
        "5 eventos:\n",
        "* 'MainScreenAppear',\n",
        "* 'PaymentScreenSuccessful' ,\n",
        "* 'CartScreenAppear',\n",
        "* 'OffersScreenAppear',\n",
        "* 'Tutorial'"
      ]
    },
    {
      "cell_type": "code",
      "execution_count": null,
      "metadata": {
        "id": "9gSPZNRXR9aE",
        "outputId": "ad843acd-2795-4502-d748-d16f3df15e67"
      },
      "outputs": [
        {
          "name": "stdout",
          "output_type": "stream",
          "text": [
            "Valores posibles de nombre de evento:\n",
            "  ['MainScreenAppear' 'PaymentScreenSuccessful' 'CartScreenAppear'\n",
            " 'OffersScreenAppear' 'Tutorial']\n"
          ]
        }
      ],
      "source": [
        "print(f'Valores posibles de nombre de evento:\\n ', data['event_name'].unique())"
      ]
    },
    {
      "cell_type": "markdown",
      "metadata": {
        "id": "uXNLEZYaR9aE"
      },
      "source": [
        "#### ¿CUÁNTOS USUARIOS HAY EN LOS REGISTROS?\n",
        "\n",
        "7551 usuarios únicos."
      ]
    },
    {
      "cell_type": "code",
      "execution_count": null,
      "metadata": {
        "id": "mT7-aYBUR9aE",
        "outputId": "75411fed-51ca-4f4a-96bc-2ba354c2125f"
      },
      "outputs": [
        {
          "name": "stdout",
          "output_type": "stream",
          "text": [
            "Usuarios únicos :  7551\n"
          ]
        }
      ],
      "source": [
        "print(f'Usuarios únicos : ',data['device_id_hash'].nunique())"
      ]
    },
    {
      "cell_type": "markdown",
      "metadata": {
        "id": "tN2N8syFR9aF"
      },
      "source": [
        "#### ¿CUÁL ES EL PROMEDIO DE EVENTOS POR USUARIO?\n",
        "En promedio cada usuario realiza 32.33 eventos."
      ]
    },
    {
      "cell_type": "code",
      "execution_count": null,
      "metadata": {
        "id": "ko-QweR1R9aF",
        "outputId": "2c332bf5-780b-4db9-df1b-4a2abf046d72"
      },
      "outputs": [
        {
          "name": "stdout",
          "output_type": "stream",
          "text": [
            "Total de eventos:  244126\n",
            "Usuarios únicos :  7551\n",
            "Promedio de eventos por usuario:  32.33028737915508\n"
          ]
        }
      ],
      "source": [
        "print(f'Total de eventos: ', data['event_name'].count())\n",
        "print(f'Usuarios únicos : ',data['device_id_hash'].nunique())\n",
        "print (f'Promedio de eventos por usuario: ', (data['event_name'].count())/(data['device_id_hash'].nunique()))"
      ]
    },
    {
      "cell_type": "markdown",
      "metadata": {
        "id": "VXim8nIbR9aF"
      },
      "source": [
        "#### ¿QUÉ PERIODO DE TIEMPO CUBREN LOS DATOS?\n",
        "\n",
        "De  2019-07-25 04:43:36  a  2019-08-07 21:15:17"
      ]
    },
    {
      "cell_type": "code",
      "execution_count": null,
      "metadata": {
        "id": "p8-6oSgLR9aF",
        "outputId": "72f02bca-218f-4422-c7e0-2710c68b6735"
      },
      "outputs": [
        {
          "name": "stdout",
          "output_type": "stream",
          "text": [
            " Fecha mínima:  2019-07-25 04:43:36\n",
            " Fecha máxima:  2019-08-07 21:15:17\n"
          ]
        }
      ],
      "source": [
        "print (f' Fecha mínima: ', data['event_timestamp'].min())\n",
        "print (f' Fecha máxima: ', data['event_timestamp'].max())"
      ]
    },
    {
      "cell_type": "markdown",
      "metadata": {
        "id": "hUw_HxLAR9aF"
      },
      "source": [
        "#### HISTOGRAMA POR FECHA Y HORA"
      ]
    },
    {
      "cell_type": "markdown",
      "metadata": {
        "id": "THmflJCcR9aF"
      },
      "source": [
        "¿Puedes tener seguridad de que tienes datos igualmente completos para todo el periodo?  Encuentra el momento en el que los datos comienzan a estar completos e ignora la sección anterior. ¿Qué periodo representan realmente los datos?\n",
        "\n",
        "No, la constancia en las frecuencias se nota a partir del 2019-08-01; antes parecen estar inclompetos. Por lo que el periodo que realmente son representativos estan entre 2019-08-01 y 2019-08-07.\n"
      ]
    },
    {
      "cell_type": "code",
      "execution_count": null,
      "metadata": {
        "id": "G34QEHxWR9aF",
        "outputId": "7f7c3ef2-aff7-4058-b692-ea5c0abdefd2"
      },
      "outputs": [
        {
          "data": {
            "image/png": "[encoded data removed]",
            "text/plain": [
              "<Figure size 640x480 with 1 Axes>"
            ]
          },
          "metadata": {},
          "output_type": "display_data"
        }
      ],
      "source": [
        "plt.hist(data['event_timestamp'],bins=336)\n",
        "plt.xticks(rotation=90)\n",
        "plt.show()"
      ]
    },
    {
      "cell_type": "markdown",
      "metadata": {
        "id": "_EGdeICDR9aG"
      },
      "source": [
        "#### ¿PERDISTE MUCHOS EVENTOS Y USUARIOS AL EXCLUIR LOS DATOS MÁS ANTIGUOS?\n",
        "\n",
        "**Al eliminar las filas de las fechas anteriores al 2019-08-01, obtuvimos un dataframe de 205,955 registros, lo que quiere decir que se eliminaron 38,171 registros de los 244,126 con los que contabamos originalmente: esto representa un 15.63% de pérdida de datos.**\n",
        "\n"
      ]
    },
    {
      "cell_type": "code",
      "execution_count": null,
      "metadata": {
        "id": "1BdVwr-jR9aG",
        "outputId": "f7538989-20d4-4fe0-e610-356fb1444f2b"
      },
      "outputs": [
        {
          "data": {
            "image/png": "[encoded data removed]",
            "text/plain": [
              "<Figure size 640x480 with 1 Axes>"
            ]
          },
          "metadata": {},
          "output_type": "display_data"
        },
        {
          "name": "stdout",
          "output_type": "stream",
          "text": [
            "Nueva cantidad de filas:  241298\n",
            "Cantidad de filas eliminadas:  2828\n",
            "Porcentaje de filas eliminadas:  1.1584181938834917\n"
          ]
        }
      ],
      "source": [
        "# Filtramos df, eliminando las filas con fecha menor al '2019-08-01 0:00:00'\n",
        "data = data[data['event_timestamp'] > '2019-08-01 0:00:00']\n",
        "\n",
        "# Observamos el nuevo histograma por fecha y hora\n",
        "plt.hist(data['event_timestamp'],bins=192)\n",
        "plt.xticks(rotation=90)\n",
        "plt.show()\n",
        "\n",
        "# Cantidad de filas eliminadas\n",
        "print(f'Nueva cantidad de filas: ', len(data['event_timestamp']))\n",
        "print(f'Cantidad de filas eliminadas: ', (244126-(len(data['event_timestamp']))))\n",
        "print(f'Porcentaje de filas eliminadas: ', 100-((len(data['event_timestamp'])*100)/244126))"
      ]
    },
    {
      "cell_type": "markdown",
      "metadata": {
        "id": "zxwgQd_5R9aG"
      },
      "source": [
        "#### ASEGÚRATE DE TENER USUARIOS DE LOS TRES GRUPOS\n",
        "Sí tenemos datos de los para los tres grupos:\n",
        "\n",
        " Para los grupos control:\n",
        "   * 246 - 68,021 registros.\n",
        "   * 247 - 65,209 registros.\n",
        "\n",
        " Para el grupo prueba:\n",
        " * 248 - 72,725 registros"
      ]
    },
    {
      "cell_type": "code",
      "execution_count": null,
      "metadata": {
        "id": "i7d3qQDVR9aH",
        "outputId": "e34c5904-3e7e-4ec2-dba2-990dfffc97c1"
      },
      "outputs": [
        {
          "name": "stdout",
          "output_type": "stream",
          "text": [
            "Registros para grupo control 246:  79425\n",
            "Registros para grupo control 247:  77147\n",
            "Registros para grupo prueba 248:  84726\n"
          ]
        }
      ],
      "source": [
        "data_246 = data[data['exp_id']== '246']\n",
        "print(f'Registros para grupo control 246: ', len(data_246['event_name']))\n",
        "data_247 = data[data['exp_id']=='247']\n",
        "print(f'Registros para grupo control 247: ', len(data_247['event_name']))\n",
        "data_248 = data[data['exp_id']=='248']\n",
        "print(f'Registros para grupo prueba 248: ', len(data_248['event_name']))"
      ]
    },
    {
      "cell_type": "markdown",
      "metadata": {
        "id": "hMYHFrDMR9aH"
      },
      "source": [
        "## ANÁLISIS ESTADÍSTICO\n",
        "### EMBUDO DE VENTAS\n",
        "\n",
        "Descubre cómo los usuarios llegan a la etapa de compra.\n"
      ]
    },
    {
      "cell_type": "markdown",
      "metadata": {
        "id": "sqZ7RZZlR9aH"
      },
      "source": [
        "#### FRECUENCIA DE CADA EVENTO\n",
        "Observa qué eventos hay en los registros y su frecuencia de suceso. Ordénalos por frecuencia.\n",
        "\n",
        "Obtenemos el siguiente resultado:\n",
        "\n",
        "| Nombre de evento  |  Frecuencia |\n",
        "|-----------------  |  ---------- |\n",
        "|'MainScreenAppear' | 99891|\n",
        "| 'OffersScreenAppear'| 39520|\n",
        "| 'CartScreenAppear'| 36270|\n",
        "| 'PaymentScreenSuccessful'| 29429|\n",
        " |'Tutorial'| 845|\n"
      ]
    },
    {
      "cell_type": "code",
      "execution_count": null,
      "metadata": {
        "id": "yy9cCdgcR9aH",
        "outputId": "59601b7f-7146-4658-9f70-aeea8d868510"
      },
      "outputs": [
        {
          "data": {
            "text/plain": [
              "{'MainScreenAppear': 117431,\n",
              " 'OffersScreenAppear': 46350,\n",
              " 'CartScreenAppear': 42365,\n",
              " 'PaymentScreenSuccessful': 34113,\n",
              " 'Tutorial': 1039}"
            ]
          },
          "metadata": {},
          "output_type": "display_data"
        }
      ],
      "source": [
        "events =['MainScreenAppear','PaymentScreenSuccessful','CartScreenAppear','OffersScreenAppear', 'Tutorial']\n",
        "\n",
        "# Crear diccionario ['nombre_evento':frecuencia]\n",
        "events_freq ={ }\n",
        "for event in events:\n",
        "    data_filtered = data[data['event_name']== event]\n",
        "    freq = len(data_filtered['event_name'])\n",
        "    events_freq.update({ event : freq})\n",
        "\n",
        "# Ordenar diccionario por frecuencia de mayor a menor\n",
        "events_freq_sorted = dict(sorted(events_freq.items(), key=lambda item: item[1],reverse= True))\n",
        "\n",
        "display(events_freq_sorted)"
      ]
    },
    {
      "cell_type": "markdown",
      "metadata": {
        "id": "9GOrlhK_R9aM"
      },
      "source": [
        "#### USUARIOS POR EVENTO\n",
        "\n",
        "Encuentra la cantidad de usuarios que realizaron cada una de estas acciones. Ordena los eventos por el número de usuarios.\n",
        "Calcula la proporción de usuarios que realizaron la acción al menos una vez.\n",
        "\n",
        "Los resultados obtenidos son:\n",
        "\n",
        "| Nombre evento | Cantidad de usuarios | Proporción de usuarios a etapa anterior (%) |\n",
        "|--------------- |-----------------|----------|\n",
        "|'MainScreenAppear' |7170| 100|\n",
        "| 'OffersScreenAppear'|3984|56.52|\n",
        "|'CartScreenAppear'|1658| 42.06|\n",
        "|'PaymentScreenSuccessful'|401|25.69|\n",
        "|'Tutorial'|695|11.32|\n",
        "\n"
      ]
    },
    {
      "cell_type": "code",
      "execution_count": null,
      "metadata": {
        "id": "Ja62vLjtR9aM",
        "outputId": "128009b3-8fea-4a3e-ebb9-47812529b248"
      },
      "outputs": [
        {
          "data": {
            "text/html": [
              "<div>\n",
              "<style scoped>\n",
              "    .dataframe tbody tr th:only-of-type {\n",
              "        vertical-align: middle;\n",
              "    }\n",
              "\n",
              "    .dataframe tbody tr th {\n",
              "        vertical-align: top;\n",
              "    }\n",
              "\n",
              "    .dataframe thead th {\n",
              "        text-align: right;\n",
              "    }\n",
              "</style>\n",
              "<table border=\"1\" class=\"dataframe\">\n",
              "  <thead>\n",
              "    <tr style=\"text-align: right;\">\n",
              "      <th>event_name</th>\n",
              "      <th>CartScreenAppear</th>\n",
              "      <th>MainScreenAppear</th>\n",
              "      <th>OffersScreenAppear</th>\n",
              "      <th>PaymentScreenSuccessful</th>\n",
              "      <th>Tutorial</th>\n",
              "    </tr>\n",
              "    <tr>\n",
              "      <th>device_id_hash</th>\n",
              "      <th></th>\n",
              "      <th></th>\n",
              "      <th></th>\n",
              "      <th></th>\n",
              "      <th></th>\n",
              "    </tr>\n",
              "  </thead>\n",
              "  <tbody>\n",
              "    <tr>\n",
              "      <th>1000608915523616548</th>\n",
              "      <td>NaT</td>\n",
              "      <td>2019-08-01 16:05:50</td>\n",
              "      <td>2019-08-07 16:15:07</td>\n",
              "      <td>NaT</td>\n",
              "      <td>NaT</td>\n",
              "    </tr>\n",
              "    <tr>\n",
              "      <th>100724994572555335</th>\n",
              "      <td>NaT</td>\n",
              "      <td>2019-08-05 16:06:45</td>\n",
              "      <td>NaT</td>\n",
              "      <td>NaT</td>\n",
              "      <td>NaT</td>\n",
              "    </tr>\n",
              "    <tr>\n",
              "      <th>1008242126838007188</th>\n",
              "      <td>2019-08-01 09:32:23</td>\n",
              "      <td>2019-08-01 09:32:21</td>\n",
              "      <td>2019-08-01 09:32:29</td>\n",
              "      <td>2019-08-01 09:32:23</td>\n",
              "      <td>NaT</td>\n",
              "    </tr>\n",
              "    <tr>\n",
              "      <th>1009503747199967885</th>\n",
              "      <td>2019-08-05 09:59:26</td>\n",
              "      <td>2019-08-04 16:34:04</td>\n",
              "      <td>2019-08-04 16:30:26</td>\n",
              "      <td>2019-08-05 09:59:25</td>\n",
              "      <td>NaT</td>\n",
              "    </tr>\n",
              "    <tr>\n",
              "      <th>1009745980451513098</th>\n",
              "      <td>2019-08-01 15:29:00</td>\n",
              "      <td>2019-08-01 15:28:01</td>\n",
              "      <td>2019-08-01 15:38:05</td>\n",
              "      <td>2019-08-02 16:36:07</td>\n",
              "      <td>NaT</td>\n",
              "    </tr>\n",
              "  </tbody>\n",
              "</table>\n",
              "</div>"
            ],
            "text/plain": [
              "event_name             CartScreenAppear    MainScreenAppear  \\\n",
              "device_id_hash                                                \n",
              "1000608915523616548                 NaT 2019-08-01 16:05:50   \n",
              "100724994572555335                  NaT 2019-08-05 16:06:45   \n",
              "1008242126838007188 2019-08-01 09:32:23 2019-08-01 09:32:21   \n",
              "1009503747199967885 2019-08-05 09:59:26 2019-08-04 16:34:04   \n",
              "1009745980451513098 2019-08-01 15:29:00 2019-08-01 15:28:01   \n",
              "\n",
              "event_name           OffersScreenAppear PaymentScreenSuccessful Tutorial  \n",
              "device_id_hash                                                            \n",
              "1000608915523616548 2019-08-07 16:15:07                     NaT      NaT  \n",
              "100724994572555335                  NaT                     NaT      NaT  \n",
              "1008242126838007188 2019-08-01 09:32:29     2019-08-01 09:32:23      NaT  \n",
              "1009503747199967885 2019-08-04 16:30:26     2019-08-05 09:59:25      NaT  \n",
              "1009745980451513098 2019-08-01 15:38:05     2019-08-02 16:36:07      NaT  "
            ]
          },
          "metadata": {},
          "output_type": "display_data"
        },
        {
          "name": "stdout",
          "output_type": "stream",
          "text": [
            "\n",
            "Visitantes página principal: 7419\n",
            "Revisión de productos: 4201\n",
            "Agrego al carrito: 1767\n",
            "Pagado: 454\n",
            "Vio el tutorial: 840\n",
            "\n",
            "Visitantes página principal: 100.0\n",
            "Revisión de productos: 56.62488205957676\n",
            "Agrego al carrito: 42.06141394905975\n",
            "Pagado: 25.693265421618563\n",
            "Vio el tutorial: 11.322280630812777\n"
          ]
        }
      ],
      "source": [
        "# Tabla pivote de la primera fecha en que realiza cada unoa de las acciones cada usuario\n",
        "users = data.pivot_table(\n",
        "    index='device_id_hash',\n",
        "    columns='event_name',\n",
        "    values='event_timestamp',\n",
        "    aggfunc='min')\n",
        "display(users.head())\n",
        "\n",
        "# Cuenta los usuarios que si tienen fecha de realización de evento\n",
        "#... y esa fecha es anterior a la etapa anterior.\n",
        "step_1 = ~users['MainScreenAppear'].isna()\n",
        "step_2 = step_1 & (users['OffersScreenAppear'] > users['MainScreenAppear'])\n",
        "step_3 = step_2 & (users['CartScreenAppear'] > users['OffersScreenAppear'])\n",
        "step_4 = step_3 & (users['PaymentScreenSuccessful'] > users['CartScreenAppear'])\n",
        "step_5 = ~users['Tutorial'].isna()\n",
        "\n",
        "#conteo de usuarios por etapa\n",
        "n_mainscreen = users[step_1].shape[0]\n",
        "n_offerscreen = users[step_2].shape[0]\n",
        "n_cartscreen = users[step_3].shape[0]\n",
        "n_payment = users[step_4].shape[0]\n",
        "n_tutorial = users[step_5].shape[0]\n",
        "\n",
        "print()\n",
        "print('Visitantes página principal:', n_mainscreen)\n",
        "print('Revisión de productos:', n_offerscreen)\n",
        "print('Agrego al carrito:', n_cartscreen)\n",
        "print('Pagado:', n_payment)\n",
        "print('Vio el tutorial:', n_tutorial)\n",
        "\n",
        "#Proporción de usuarios = (usuarios por evento * 100) /usuarios etapa anterior\n",
        "print()\n",
        "print('Visitantes página principal:', n_mainscreen*100/n_mainscreen)\n",
        "print('Revisión de productos:', n_offerscreen*100/n_mainscreen)\n",
        "print('Agrego al carrito:', n_cartscreen*100/n_offerscreen)\n",
        "print('Pagado:', n_payment*100/ n_cartscreen)\n",
        "print('Vio el tutorial:', n_tutorial*100/n_mainscreen)"
      ]
    },
    {
      "cell_type": "markdown",
      "metadata": {
        "id": "GpzOXHVvR9aM"
      },
      "source": [
        "#### ¿TODAS LAS ACCIONES SON PARTE DE UNA SOLA SECUENCIA?\n",
        "¿En qué orden crees que ocurrieron las acciones? ¿Todas son parte de una sola secuencia? No es necesario tenerlas en cuenta al calcular el embudo.\n",
        "\n",
        "**No todas las acciones son secuenciales; para ver el tutorial no es necesario realizar niguna compra. Tenemos dos secuencias:**\n",
        "\n",
        "Secuecia 1:\n",
        "*    Página principal - 'MainScreenAppear'\n",
        "*    Página de ventas - 'OffersScreenAppear'\n",
        "*    Página de carrito - 'CartScreenAppear'\n",
        "*    Página de pago  - 'PaymentScreenSuccessful'\n",
        "  \n",
        "Secuencia 2:\n",
        "*  Página principal - 'MainScreenAppear'\n",
        "*  Tutorial - 'Tutorial'\n"
      ]
    },
    {
      "cell_type": "markdown",
      "metadata": {
        "id": "6OXBWaaLR9aN"
      },
      "source": [
        "#### APLICACIÓN DE EMBUDO DE EVENTOS\n",
        "\n",
        "Utiliza el embudo de eventos para encontrar la proporción de usuarios que pasan de una etapa a la siguiente. Por ejemplo, para la secuencia de eventos A → B → C, calcula la proporción de usuarios en la etapa B a la cantidad de usuarios en la etapa A y la proporción de usuarios en la etapa C a la cantidad en la etapa B."
      ]
    },
    {
      "cell_type": "code",
      "execution_count": null,
      "metadata": {
        "id": "CFv7Dk73R9aN",
        "outputId": "2e383ed5-db2b-455a-81a6-6913b34d1f38"
      },
      "outputs": [
        {
          "data": {
            "image/png": "[encoded data removed]",
            "text/plain": [
              "<Figure size 640x480 with 1 Axes>"
            ]
          },
          "metadata": {},
          "output_type": "display_data"
        }
      ],
      "source": [
        "# Crear un DataFrame usando los datos obtenidos anteriormente\n",
        "funnel ={\n",
        "    'events' : ['MainScreenAppear','OffersScreenAppear','CartScreenAppear','PaymentScreenSuccessful','Tutorial'],\n",
        "    'event_users': [ n_mainscreen, n_offerscreen, n_cartscreen, n_payment, n_tutorial],\n",
        "    # Proporción de usuarios que pasan de una etapa a la siguiente\n",
        "    'event_user_proportion' : [ (n_mainscreen*100)/n_mainscreen,\n",
        "                (n_offerscreen*100)/n_mainscreen,\n",
        "                (n_cartscreen*100)/ n_offerscreen,\n",
        "                (n_payment*100)/n_cartscreen,\n",
        "               (n_tutorial*100)/n_mainscreen]\n",
        "}\n",
        "\n",
        "funnel_data = pd.DataFrame(funnel)\n",
        "\n",
        "#Crear gráfico Porcentaje de usuarios\n",
        "plt.style.use(\"dark_background\")\n",
        "sns.barplot(x='events', y='event_user_proportion', data=funnel_data)\n",
        "plt.xlabel('Event Name')\n",
        "plt.ylabel('Users Proportion')\n",
        "plt.title('User Proportion by Event')\n",
        "plt.xticks(rotation=90)\n",
        "plt.show()\n"
      ]
    },
    {
      "cell_type": "markdown",
      "metadata": {
        "id": "XDuRvKzsR9aN"
      },
      "source": [
        "#### ¿EN QUE ETAPA SE PIERDEN MÁS USUARIOS?\n",
        "\n",
        "En el paso de la etapa del carrito al pago exitoso, solo el 25.69% de los usuarios con productos en el carrito finalizan su compra.\n",
        "\n",
        "También se observa un bajo porcentaje de usuarios que ven el tutorial de la página, solo el 11% de los visitantes totales de la página principal."
      ]
    },
    {
      "cell_type": "markdown",
      "metadata": {
        "id": "clHMS-_dR9aN"
      },
      "source": [
        "#### ¿QUÉ PORCENTAJE DE USUARIOS HACE TODO EL VIAJE DESDE SU PRIMER EVENTO HASTA EL PAGO?\n",
        "\n",
        "**Solo el 6.11% llego a completar la compra**"
      ]
    },
    {
      "cell_type": "code",
      "execution_count": null,
      "metadata": {
        "id": "xh9IJCaIR9aN",
        "outputId": "74d90979-cdd5-4bb2-f78f-ef4ab9557d7e"
      },
      "outputs": [
        {
          "name": "stdout",
          "output_type": "stream",
          "text": [
            "Percentage from total users that complete payment:  6.119423102844049\n"
          ]
        }
      ],
      "source": [
        "print(f'Percentage from total users that complete payment: ', (n_payment*100)/n_mainscreen)\n"
      ]
    },
    {
      "cell_type": "markdown",
      "metadata": {
        "id": "FlcB5uD0R9aO"
      },
      "source": [
        "## ANÁLISIS DE NEGOCIO\n",
        "### TEST A/A/B\n",
        "\n",
        "Crear dos grupos A permite establecer el principio de que solo confiaremos en la exactitud de nuestras pruebas cuando los dos grupos de control sean similares. Si hay diferencias significativas entre los grupos A, esto puede ayudarnos a descubrir factores que pueden estar distorsionando los resultados. La comparación de grupos de control también nos dice cuánto tiempo y datos necesitaremos cuando realicemos más tests."
      ]
    },
    {
      "cell_type": "markdown",
      "metadata": {
        "id": "7Xg4rOmNR9aO"
      },
      "source": [
        "#### ¿CUÁNTOS USUARIOS HAY POR GRUPO?\n",
        "\n",
        "Como se obtuvo en la sección de análisi exploratorio, hay:\n",
        "\n",
        "* Registros para grupo control 246:  79,425\n",
        "* Registros para grupo control 247:  77,147\n",
        "* Registros para grupo prueba 248:  84,726\n",
        "\n",
        "**Y la cantidad de usurios únicos respectivos son:**\n",
        "\n",
        "* Usuarios únicos para grupo control 246:  2484\n",
        "* Usuarios únicos para grupo control 247:  2513\n",
        "* Usuarios únicos para grupo prueba 248:  2537"
      ]
    },
    {
      "cell_type": "code",
      "execution_count": null,
      "metadata": {
        "id": "yf_9PIEUR9aO",
        "outputId": "a285cf48-8ba8-4fe5-f8c2-8fc3d747749f"
      },
      "outputs": [
        {
          "name": "stdout",
          "output_type": "stream",
          "text": [
            "Usuarios únicos para grupo control 246:  2484\n",
            "Usuarios únicos para grupo control 247:  2513\n",
            "Usuarios únicos para grupo prueba 248:  2537\n"
          ]
        }
      ],
      "source": [
        "print(f'Usuarios únicos para grupo control 246: ', data_246['device_id_hash'].nunique())\n",
        "print(f'Usuarios únicos para grupo control 247: ', data_247['device_id_hash'].nunique())\n",
        "print(f'Usuarios únicos para grupo prueba 248: ', data_248['device_id_hash'].nunique())"
      ]
    },
    {
      "cell_type": "markdown",
      "metadata": {
        "id": "3HATb74HR9aO"
      },
      "source": [
        "#### ¿HAY DIFERENCIAS ESTADÍSTICAS EN ENTRE LOS GRUPOS CONTROL A/A?\n",
        "\n",
        "Tenemos dos grupos de control en el test A/A, donde comprobamos nuestros mecanismos y cálculos. Observa si hay una diferencia estadísticamente significativa entre las muestras 246 y 247.\n",
        "\n",
        "En cada uno de los grupos de control, encuentra la cantidad de usuarios que realizaron cada acción y encuentra su proporción. Comprueba si la diferencia entre los grupos es estadísticamente significativa.¿Puedes confirmar que los grupos se dividieron correctamente?\n",
        "\n",
        "**Sí, los grupos se han dividido de manera equitativa. Lo cantidad de usuarios que realizó cada cada acción son muy parecidas, al igual que las tasas de conversión.**\n",
        "\n",
        "**Ademas pudimos comprobar, aplicando el método de Mann-Whitney a las series de número de día para cada usuario en cada acción y utilizando el nivel de significacia corregido por el método de Bonferroni (0.05 a 0.016), que no podemos descartar la Hipótesis nula en ninguno de los casos (eventos). Es decir; que no hay diferencia significativa entre sus medias.**"
      ]
    },
    {
      "cell_type": "code",
      "execution_count": null,
      "metadata": {
        "id": "yLZKsZqzR9aO",
        "outputId": "76aeaaff-732f-4f85-d80c-e4f6753c0350"
      },
      "outputs": [
        {
          "data": {
            "text/plain": [
              "'Embudo 246:'"
            ]
          },
          "metadata": {},
          "output_type": "display_data"
        },
        {
          "data": {
            "text/html": [
              "<div>\n",
              "<style scoped>\n",
              "    .dataframe tbody tr th:only-of-type {\n",
              "        vertical-align: middle;\n",
              "    }\n",
              "\n",
              "    .dataframe tbody tr th {\n",
              "        vertical-align: top;\n",
              "    }\n",
              "\n",
              "    .dataframe thead th {\n",
              "        text-align: right;\n",
              "    }\n",
              "</style>\n",
              "<table border=\"1\" class=\"dataframe\">\n",
              "  <thead>\n",
              "    <tr style=\"text-align: right;\">\n",
              "      <th></th>\n",
              "      <th>events</th>\n",
              "      <th>event_users</th>\n",
              "      <th>event_user_proportion</th>\n",
              "    </tr>\n",
              "  </thead>\n",
              "  <tbody>\n",
              "    <tr>\n",
              "      <th>0</th>\n",
              "      <td>MainScreenAppear</td>\n",
              "      <td>2450</td>\n",
              "      <td>100.000000</td>\n",
              "    </tr>\n",
              "    <tr>\n",
              "      <th>1</th>\n",
              "      <td>OffersScreenAppear</td>\n",
              "      <td>1411</td>\n",
              "      <td>57.591837</td>\n",
              "    </tr>\n",
              "    <tr>\n",
              "      <th>2</th>\n",
              "      <td>CartScreenAppear</td>\n",
              "      <td>584</td>\n",
              "      <td>41.389086</td>\n",
              "    </tr>\n",
              "    <tr>\n",
              "      <th>3</th>\n",
              "      <td>PaymentScreenSuccessful</td>\n",
              "      <td>145</td>\n",
              "      <td>24.828767</td>\n",
              "    </tr>\n",
              "    <tr>\n",
              "      <th>4</th>\n",
              "      <td>Tutorial</td>\n",
              "      <td>278</td>\n",
              "      <td>11.346939</td>\n",
              "    </tr>\n",
              "  </tbody>\n",
              "</table>\n",
              "</div>"
            ],
            "text/plain": [
              "                    events  event_users  event_user_proportion\n",
              "0         MainScreenAppear         2450             100.000000\n",
              "1       OffersScreenAppear         1411              57.591837\n",
              "2         CartScreenAppear          584              41.389086\n",
              "3  PaymentScreenSuccessful          145              24.828767\n",
              "4                 Tutorial          278              11.346939"
            ]
          },
          "metadata": {},
          "output_type": "display_data"
        },
        {
          "data": {
            "text/plain": [
              "'Embudo 246:'"
            ]
          },
          "metadata": {},
          "output_type": "display_data"
        },
        {
          "data": {
            "text/html": [
              "<div>\n",
              "<style scoped>\n",
              "    .dataframe tbody tr th:only-of-type {\n",
              "        vertical-align: middle;\n",
              "    }\n",
              "\n",
              "    .dataframe tbody tr th {\n",
              "        vertical-align: top;\n",
              "    }\n",
              "\n",
              "    .dataframe thead th {\n",
              "        text-align: right;\n",
              "    }\n",
              "</style>\n",
              "<table border=\"1\" class=\"dataframe\">\n",
              "  <thead>\n",
              "    <tr style=\"text-align: right;\">\n",
              "      <th></th>\n",
              "      <th>events</th>\n",
              "      <th>event_users</th>\n",
              "      <th>event_user_proportion</th>\n",
              "    </tr>\n",
              "  </thead>\n",
              "  <tbody>\n",
              "    <tr>\n",
              "      <th>0</th>\n",
              "      <td>MainScreenAppear</td>\n",
              "      <td>2476</td>\n",
              "      <td>100.000000</td>\n",
              "    </tr>\n",
              "    <tr>\n",
              "      <th>1</th>\n",
              "      <td>OffersScreenAppear</td>\n",
              "      <td>1379</td>\n",
              "      <td>55.694669</td>\n",
              "    </tr>\n",
              "    <tr>\n",
              "      <th>2</th>\n",
              "      <td>CartScreenAppear</td>\n",
              "      <td>600</td>\n",
              "      <td>43.509790</td>\n",
              "    </tr>\n",
              "    <tr>\n",
              "      <th>3</th>\n",
              "      <td>PaymentScreenSuccessful</td>\n",
              "      <td>144</td>\n",
              "      <td>24.000000</td>\n",
              "    </tr>\n",
              "    <tr>\n",
              "      <th>4</th>\n",
              "      <td>Tutorial</td>\n",
              "      <td>283</td>\n",
              "      <td>11.429725</td>\n",
              "    </tr>\n",
              "  </tbody>\n",
              "</table>\n",
              "</div>"
            ],
            "text/plain": [
              "                    events  event_users  event_user_proportion\n",
              "0         MainScreenAppear         2476             100.000000\n",
              "1       OffersScreenAppear         1379              55.694669\n",
              "2         CartScreenAppear          600              43.509790\n",
              "3  PaymentScreenSuccessful          144              24.000000\n",
              "4                 Tutorial          283              11.429725"
            ]
          },
          "metadata": {},
          "output_type": "display_data"
        }
      ],
      "source": [
        "\n",
        "# Función que te regresa:\n",
        "#como primer valor [0] la tabla de embudo:\n",
        "#evento | cantidad de usuarios que lo realizo | proporción de usurios a evento anterior\n",
        "#como segundo valor [1] la tabla pivote\n",
        "# index: id_usuario, col: 'nombre evento, valores: fecha min\n",
        "def embudo(data):\n",
        "    # Tabla pivote de la primera fecha en que realiza cada una de las acciones cada usuario\n",
        "    users = data.pivot_table(\n",
        "        index='device_id_hash',\n",
        "        columns='event_name',\n",
        "        values='event_timestamp',\n",
        "        aggfunc='min')\n",
        "\n",
        "    # Cuenta los usuarios que si tienen fecha de realización de evento\n",
        "    #... y esa fecha es anterior a la estapa anterior.\n",
        "    step_1 = ~users['MainScreenAppear'].isna()\n",
        "    step_2 = step_1 & (users['OffersScreenAppear'] > users['MainScreenAppear'])\n",
        "    step_3 = step_2 & (users['CartScreenAppear'] > users['OffersScreenAppear'])\n",
        "    step_4 = step_3 & (users['PaymentScreenSuccessful'] > users['CartScreenAppear'])\n",
        "    step_5 = ~users['Tutorial'].isna()\n",
        "\n",
        "    #conteo de usuarios por etapa\n",
        "    n_mainscreen = users[step_1].shape[0]\n",
        "    n_offerscreen = users[step_2].shape[0]\n",
        "    n_cartscreen = users[step_3].shape[0]\n",
        "    n_payment = users[step_4].shape[0]\n",
        "    n_tutorial = users[step_5].shape[0]\n",
        "\n",
        "    events = ['MainScreenAppear','OffersScreenAppear','CartScreenAppear','PaymentScreenSuccessful','Tutorial']\n",
        "    event_users = [ n_mainscreen, n_offerscreen, n_cartscreen, n_payment, n_tutorial]\n",
        "    event_user_proportion = [ (n_mainscreen*100)/n_mainscreen,\n",
        "                (n_offerscreen*100)/n_mainscreen,\n",
        "                (n_cartscreen*100)/ n_offerscreen,\n",
        "                (n_payment*100)/n_cartscreen,\n",
        "               (n_tutorial*100)/n_mainscreen]\n",
        "\n",
        "    # Crear un DataFrame usando los datos obtenidos anteriormente\n",
        "    funnel ={ 'events' : events, 'event_users': event_users,\n",
        "              # Proporción de usuarios que pasan de una etapa a la siguiente\n",
        "              'event_user_proportion' :event_user_proportion }\n",
        "\n",
        "    funnel_data = pd.DataFrame(funnel)\n",
        "    return(funnel_data, users)\n",
        "\n",
        "embudo_246 = embudo(data_246)\n",
        "display(f'Embudo 246:' ,embudo_246[0])\n",
        "embudo_247 = embudo(data_247)\n",
        "display(f'Embudo 246:' ,embudo_247[0])\n"
      ]
    },
    {
      "cell_type": "code",
      "execution_count": null,
      "metadata": {
        "id": "yXUGHwpVR9aP",
        "outputId": "bbe9626c-0b50-4bae-a81d-e47f87ed27c0"
      },
      "outputs": [
        {
          "name": "stdout",
          "output_type": "stream",
          "text": [
            "Resultado prueba columna MainScreenAppear entre grupos 246 y 247: \n",
            " (' No se descartar H0, con valor p: ', np.float64(0.14324720935952584))\n",
            "Resultado prueba columna OffersScreenAppear entre grupos 246 y 247: \n",
            " (' No se descartar H0, con valor p: ', np.float64(0.08223127003347135))\n",
            "Resultado prueba columna CartScreenAppear entre grupos 246 y 247: \n",
            " (' No se descartar H0, con valor p: ', np.float64(0.5203704616049185))\n",
            "Resultado prueba columna PaymentScreenSuccessful entre grupos 246 y 247: \n",
            " (' No se descartar H0, con valor p: ', np.float64(0.8739537552223948))\n",
            "Resultado prueba columna Tutorial entre grupos 246 y 247: \n",
            " (' No se descartar H0, con valor p: ', np.float64(0.555418762723114))\n"
          ]
        }
      ],
      "source": [
        "# Función prueba estadística de las series de valor de día de cada evento\n",
        "def dif_estadistica_evento(data1, data2, column, alpha):\n",
        "    sampleA = data1[column].dt.day.dropna()\n",
        "    sampleB = data2[column].dt.day.dropna()\n",
        "    p_value = stats.mannwhitneyu(sampleA, sampleB)[1]\n",
        "    if p_value < float(alpha):\n",
        "        return (f' Hay significancia estadística, con valor p: ', p_value)\n",
        "    else :\n",
        "        return (f' No se descartar H0, con valor p: ', p_value)\n",
        "\n",
        "#Función prueba estadística para resultados de embudos\n",
        "def dif_estadistica_embudo(data1, data2, column, alpha):\n",
        "    sampleA = data1[column]\n",
        "    sampleB = data2[column]\n",
        "    p_value = stats.mannwhitneyu(sampleA, sampleB)[1]\n",
        "    return(p_value)\n",
        "    #if p_value < float(alpha):\n",
        "    #    return (f' Hay significancia estadística entre los grupos, con valor p: ', p_value)\n",
        "    #else :\n",
        "     #    return (f' No se puede descartar la posibilidad de que no hay diferencia estadística entre los grupos, con valor p: ', p_value)\n",
        "\n",
        "\n",
        "pivot_246 = embudo_246[1]\n",
        "pivot_247 = embudo_247[1]\n",
        "\n",
        "#Realizar pruebas por evento grupos 246 - 247\n",
        "events = ['MainScreenAppear','OffersScreenAppear','CartScreenAppear','PaymentScreenSuccessful','Tutorial']\n",
        "for event in events:\n",
        "    dif_est =  dif_estadistica_evento(pivot_246, pivot_247, event, 0.016)\n",
        "    print(f'Resultado prueba columna {event} entre grupos 246 y 247: \\n', dif_est )\n",
        "    print\n",
        "\n",
        "# Realizar prueba de embudo"
      ]
    },
    {
      "cell_type": "markdown",
      "metadata": {
        "id": "94vSUqGxR9aP"
      },
      "source": [
        "#### ¿HAY DIFERENCIAS ESTADÍSTICAS ENTRE CON EL GRUPO B (FUENTES ALTERADAS)?\n",
        "Haz lo mismo para el grupo con fuentes alteradas. Compara los resultados con los de cada uno de los grupos de control para cada evento de forma aislada. Compara los resultados con los resultados combinados de los grupos de control. ¿Qué conclusiones puedes sacar del experimento?\n",
        "\n",
        "**Para ninguno de los casos, cada evento entre las compraciones de los grupos 246-248 y 247-248, hemos obtenido diferencias significativas.\n",
        "Eso nos lleva a concluir que los cambios en las fuentes de la paágina web no han surtido efecto alguno en el comportamiento de los usuarios.**\n"
      ]
    },
    {
      "cell_type": "code",
      "execution_count": null,
      "metadata": {
        "id": "aq__JUZkR9aP",
        "outputId": "e0bc1c07-08b8-4acf-a12d-ab32f0837a27"
      },
      "outputs": [
        {
          "data": {
            "text/plain": [
              "'Embudo 248:'"
            ]
          },
          "metadata": {},
          "output_type": "display_data"
        },
        {
          "data": {
            "text/html": [
              "<div>\n",
              "<style scoped>\n",
              "    .dataframe tbody tr th:only-of-type {\n",
              "        vertical-align: middle;\n",
              "    }\n",
              "\n",
              "    .dataframe tbody tr th {\n",
              "        vertical-align: top;\n",
              "    }\n",
              "\n",
              "    .dataframe thead th {\n",
              "        text-align: right;\n",
              "    }\n",
              "</style>\n",
              "<table border=\"1\" class=\"dataframe\">\n",
              "  <thead>\n",
              "    <tr style=\"text-align: right;\">\n",
              "      <th></th>\n",
              "      <th>events</th>\n",
              "      <th>event_users</th>\n",
              "      <th>event_user_proportion</th>\n",
              "    </tr>\n",
              "  </thead>\n",
              "  <tbody>\n",
              "    <tr>\n",
              "      <th>0</th>\n",
              "      <td>MainScreenAppear</td>\n",
              "      <td>2493</td>\n",
              "      <td>100.000000</td>\n",
              "    </tr>\n",
              "    <tr>\n",
              "      <th>1</th>\n",
              "      <td>OffersScreenAppear</td>\n",
              "      <td>1411</td>\n",
              "      <td>56.598476</td>\n",
              "    </tr>\n",
              "    <tr>\n",
              "      <th>2</th>\n",
              "      <td>CartScreenAppear</td>\n",
              "      <td>583</td>\n",
              "      <td>41.318214</td>\n",
              "    </tr>\n",
              "    <tr>\n",
              "      <th>3</th>\n",
              "      <td>PaymentScreenSuccessful</td>\n",
              "      <td>165</td>\n",
              "      <td>28.301887</td>\n",
              "    </tr>\n",
              "    <tr>\n",
              "      <th>4</th>\n",
              "      <td>Tutorial</td>\n",
              "      <td>279</td>\n",
              "      <td>11.191336</td>\n",
              "    </tr>\n",
              "  </tbody>\n",
              "</table>\n",
              "</div>"
            ],
            "text/plain": [
              "                    events  event_users  event_user_proportion\n",
              "0         MainScreenAppear         2493             100.000000\n",
              "1       OffersScreenAppear         1411              56.598476\n",
              "2         CartScreenAppear          583              41.318214\n",
              "3  PaymentScreenSuccessful          165              28.301887\n",
              "4                 Tutorial          279              11.191336"
            ]
          },
          "metadata": {},
          "output_type": "display_data"
        }
      ],
      "source": [
        "embudo_248 = embudo(data_248)\n",
        "display(f'Embudo 248:' ,embudo_248[0])"
      ]
    },
    {
      "cell_type": "markdown",
      "metadata": {
        "id": "trRC5TXER9aP"
      },
      "source": [
        "##### GRUPOS 246 -248"
      ]
    },
    {
      "cell_type": "code",
      "execution_count": null,
      "metadata": {
        "id": "lGJBMNoCR9aP",
        "outputId": "1c06f9f0-b71b-4c9e-ed62-b4ec78ce4d91"
      },
      "outputs": [
        {
          "name": "stdout",
          "output_type": "stream",
          "text": [
            "Resultado prueba columna MainScreenAppear entre grupos 246 y 248: \n",
            " (' No se descartar H0, con valor p: ', np.float64(0.7269509900179587))\n",
            "Resultado prueba columna OffersScreenAppear entre grupos 246 y 248: \n",
            " (' No se descartar H0, con valor p: ', np.float64(0.5225628175475723))\n",
            "Resultado prueba columna CartScreenAppear entre grupos 246 y 248: \n",
            " (' No se descartar H0, con valor p: ', np.float64(0.35920446550993257))\n",
            "Resultado prueba columna PaymentScreenSuccessful entre grupos 246 y 248: \n",
            " (' No se descartar H0, con valor p: ', np.float64(0.4699507367315775))\n",
            "Resultado prueba columna Tutorial entre grupos 246 y 248: \n",
            " (' No se descartar H0, con valor p: ', np.float64(0.6105180194013311))\n"
          ]
        }
      ],
      "source": [
        "pivot_248 = embudo_248[1]\n",
        "\n",
        "#Realizar pruebas por evento grupos 246 - 248\n",
        "for event in events:\n",
        "    dif_est =  dif_estadistica_evento(pivot_246, pivot_248, event , 0.016)\n",
        "    print(f'Resultado prueba columna {event} entre grupos 246 y 248: \\n', dif_est )\n",
        "    print"
      ]
    },
    {
      "cell_type": "markdown",
      "metadata": {
        "id": "H7XohGejR9aQ"
      },
      "source": [
        "##### GRUPOS 247 -248"
      ]
    },
    {
      "cell_type": "code",
      "execution_count": null,
      "metadata": {
        "id": "nUwnGzikR9aQ",
        "outputId": "c21da78e-09d6-463d-e7a9-91401ef86efa"
      },
      "outputs": [
        {
          "name": "stdout",
          "output_type": "stream",
          "text": [
            "Resultado prueba columna MainScreenAppear entre grupos 246 y 248: \n",
            " (' No se descartar H0, con valor p: ', np.float64(0.26827963027263046))\n",
            "Resultado prueba columna OffersScreenAppear entre grupos 246 y 248: \n",
            " (' No se descartar H0, con valor p: ', np.float64(0.27623611525655734))\n",
            "Resultado prueba columna CartScreenAppear entre grupos 246 y 248: \n",
            " (' No se descartar H0, con valor p: ', np.float64(0.7856819158836177))\n",
            "Resultado prueba columna PaymentScreenSuccessful entre grupos 246 y 248: \n",
            " (' No se descartar H0, con valor p: ', np.float64(0.579249649639376))\n",
            "Resultado prueba columna Tutorial entre grupos 246 y 248: \n",
            " (' No se descartar H0, con valor p: ', np.float64(0.29066928599733355))\n"
          ]
        }
      ],
      "source": [
        "#Realizar pruebas por evento grupos 247 - 248\n",
        "for event in events:\n",
        "    dif_est =  dif_estadistica_evento(pivot_247, pivot_248, event , 0.016)\n",
        "    print(f'Resultado prueba columna {event} entre grupos 246 y 248: \\n', dif_est )\n",
        "    print"
      ]
    },
    {
      "cell_type": "markdown",
      "metadata": {
        "id": "u_xEQmvnR9aQ"
      },
      "source": [
        "#### ¿QUÉ NIVEL DE SIGNIFICACIA USAR?\n",
        "\n",
        "¿Qué nivel de significancia has establecido para probar las hipótesis estadísticas mencionadas anteriormente? Calcula cuántas pruebas de hipótesis estadísticas has realizado. Con un nivel de significancia estadística de 0.1, uno de cada 10 resultados podría ser falso. ¿Cuál debería ser el nivel de significancia? Si deseas cambiarlo, vuelve a ejecutar los pasos anteriores y comprueba tus conclusiones."
      ]
    },
    {
      "cell_type": "markdown",
      "metadata": {
        "id": "wH99LLUnR9aQ"
      },
      "source": [
        "**Hacer varias comparaciones con los mismos datos se llama pruebas múltiples. Lo que hay que saber al respecto es que la probabilidad de cometer un error tipo I aumenta con cada nueva prueba de hipótesis.**\n",
        "\n",
        "**Es por ello que se realiza la correcciones de nivel de significación. Un método para hacerlo es el de Bonferroni:**\n",
        "\n",
        "**alfa_corregida = alfa_requerida / #_de_pruebas**\n",
        "\n",
        "En nuestro caso, queremos un alfa global de 0.05 entonces:"
      ]
    },
    {
      "cell_type": "code",
      "execution_count": null,
      "metadata": {
        "id": "qCQaRUTaR9aQ",
        "outputId": "4d4ecd7c-c71e-443c-e8d8-f7b251486281"
      },
      "outputs": [
        {
          "name": "stdout",
          "output_type": "stream",
          "text": [
            "0.016666666666666666\n"
          ]
        }
      ],
      "source": [
        "alfa_corregida = 0.05 / 3\n",
        "print(alfa_corregida)"
      ]
    }
  ],
  "metadata": {
    "kernelspec": {
      "display_name": "ambiente_general",
      "language": "python",
      "name": "python3"
    },
    "language_info": {
      "codemirror_mode": {
        "name": "ipython",
        "version": 3
      },
      "file_extension": ".py",
      "mimetype": "text/x-python",
      "name": "python",
      "nbconvert_exporter": "python",
      "pygments_lexer": "ipython3",
      "version": "3.13.3"
    },
    "colab": {
      "provenance": [],
      "include_colab_link": true
    }
  },
  "nbformat": 4,
  "nbformat_minor": 0
}